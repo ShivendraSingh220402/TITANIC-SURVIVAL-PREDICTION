{
 "cells": [
  {
   "cell_type": "code",
   "execution_count": 1,
   "id": "423f4365-d20f-487e-93ac-4730f23de071",
   "metadata": {},
   "outputs": [
    {
     "name": "stderr",
     "output_type": "stream",
     "text": [
      "WARNING:absl:Compiled the loaded model, but the compiled metrics have yet to be built. `model.compile_metrics` will be empty until you train or evaluate the model.\n"
     ]
    }
   ],
   "source": [
    "import numpy as np\n",
    "import tensorflow as tf\n",
    "from tensorflow.keras.models import load_model\n",
    "from sklearn.preprocessing import StandardScaler\n",
    "\n",
    "# Load the trained model\n",
    "model = load_model(\"titanic_survival_model.h5\")\n",
    "top_features = ['Pclass', 'Sex', 'Fare', 'Embarked', 'Age']  "
   ]
  },
  {
   "cell_type": "code",
   "execution_count": 2,
   "id": "9d544b99-4fa5-409b-bf4f-aab036bf2c9f",
   "metadata": {},
   "outputs": [
    {
     "name": "stdout",
     "output_type": "stream",
     "text": [
      "Enter Passenger Details for Survival Prediction\n"
     ]
    },
    {
     "name": "stdin",
     "output_type": "stream",
     "text": [
      "Ticket Class (1 = First, 2 = Second, 3 = Third):  2\n",
      "Sex (male/female):  male\n",
      "Fare Amount (in currency value):  8000\n",
      "Embarked Port (C = Cherbourg, Q = Queenstown, S = Southampton):  C\n",
      "Age:  25\n"
     ]
    }
   ],
   "source": [
    "print(\"Enter Passenger Details for Survival Prediction\")\n",
    "\n",
    "pclass = int(input(\"Ticket Class (1 = First, 2 = Second, 3 = Third): \"))\n",
    "sex = input(\"Sex (male/female): \").strip().lower()\n",
    "fare = float(input(\"Fare Amount (in currency value): \"))\n",
    "embarked = input(\"Embarked Port (C = Cherbourg, Q = Queenstown, S = Southampton): \").strip().upper()\n",
    "age = float(input(\"Age: \"))"
   ]
  },
  {
   "cell_type": "code",
   "execution_count": 3,
   "id": "27d22e5e-1211-4357-b80d-0464c2c5af0e",
   "metadata": {},
   "outputs": [],
   "source": [
    "sex = 1 if sex == \"male\" else 0\n",
    "embarked_mapping = {\"C\": 0, \"Q\": 1, \"S\": 2}\n",
    "embarked = embarked_mapping.get(embarked, 2)"
   ]
  },
  {
   "cell_type": "code",
   "execution_count": 4,
   "id": "a9d6319a-46c3-4183-9263-ac4a35e52eac",
   "metadata": {},
   "outputs": [],
   "source": [
    "user_data = np.array([[pclass, sex, fare, embarked, age]])\n",
    "scaler = StandardScaler()\n",
    "user_data = scaler.fit_transform(user_data)\n",
    "user_data = np.expand_dims(user_data, axis=-1)"
   ]
  },
  {
   "cell_type": "code",
   "execution_count": 5,
   "id": "fb8778af-cd00-4f09-a1c0-6d7fcc503b1e",
   "metadata": {},
   "outputs": [
    {
     "name": "stdout",
     "output_type": "stream",
     "text": [
      "\u001b[1m1/1\u001b[0m \u001b[32m━━━━━━━━━━━━━━━━━━━━\u001b[0m\u001b[37m\u001b[0m \u001b[1m0s\u001b[0m 161ms/step\n",
      "Prediction: Did Not Survive\n"
     ]
    }
   ],
   "source": [
    "# Predict survival\n",
    "prediction = model.predict(user_data)\n",
    "survival = \"Survived\" if prediction[0][0] > 0.5 else \"Did Not Survive\"\n",
    "\n",
    "print(f\"Prediction: {survival}\")"
   ]
  }
 ],
 "metadata": {
  "kernelspec": {
   "display_name": "Python 3 (ipykernel)",
   "language": "python",
   "name": "python3"
  },
  "language_info": {
   "codemirror_mode": {
    "name": "ipython",
    "version": 3
   },
   "file_extension": ".py",
   "mimetype": "text/x-python",
   "name": "python",
   "nbconvert_exporter": "python",
   "pygments_lexer": "ipython3",
   "version": "3.9.13"
  }
 },
 "nbformat": 4,
 "nbformat_minor": 5
}
